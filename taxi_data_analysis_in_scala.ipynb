{
 "cells": [
  {
   "cell_type": "markdown",
   "metadata": {},
   "source": [
    "# New York Taxis Analysis"
   ]
  },
  {
   "cell_type": "markdown",
   "metadata": {},
   "source": [
    "## Load Traffic data"
   ]
  },
  {
   "cell_type": "code",
   "execution_count": null,
   "metadata": {},
   "outputs": [],
   "source": [
    "val rawDataDF = spark.read.format(\"csv\").option(\"header\",\"true\").load(\"taxis.csv\")"
   ]
  },
  {
   "cell_type": "markdown",
   "metadata": {},
   "source": [
    "## Define Processing functions"
   ]
  },
  {
   "cell_type": "markdown",
   "metadata": {},
   "source": [
    "### Function to calculate air distance between two coordinates"
   ]
  },
  {
   "cell_type": "code",
   "execution_count": null,
   "metadata": {},
   "outputs": [],
   "source": [
    "import java.lang.Math; \n",
    "def travelDistanceInKM(departureLat: Double, departureLon: Double, arrivalLat: Double, arrivalLon: Double): Double = {\n",
    "  var earthRadiusKm = 6371;\n",
    "  var distanceLat = Math.toRadians(arrivalLat-departureLat);\n",
    "  var distanceLon = Math.toRadians(arrivalLon-departureLon);\n",
    "  var departureLatInRadians = Math.toRadians(departureLat);\n",
    "  var arrivalLatInRadians = Math.toRadians(arrivalLat);\n",
    "  var a = Math.sin(distanceLat/2) * Math.sin(distanceLat/2) +\n",
    "          Math.sin(distanceLon/2) * Math.sin(distanceLon/2) * Math.cos(departureLatInRadians) * Math.cos(arrivalLatInRadians); \n",
    "  var c = 2 * Math.atan2(Math.sqrt(a), Math.sqrt(1-a)); \n",
    "  return earthRadiusKm * c;\n",
    "}"
   ]
  },
  {
   "cell_type": "markdown",
   "metadata": {},
   "source": [
    "### Function to derive day string from timestamp"
   ]
  },
  {
   "cell_type": "code",
   "execution_count": null,
   "metadata": {},
   "outputs": [],
   "source": [
    "import java.text.SimpleDateFormat;\n",
    "def travelTimetoDay(dateTime: String): String = {\n",
    "  val sdfTime = new SimpleDateFormat(\"yyyy-MM-dd hh:mm:ss\");\n",
    "  val sdfDay= new SimpleDateFormat(\"E\");\n",
    "  return sdfDay.format(sdfTime.parse(dateTime));\n",
    "}"
   ]
  },
  {
   "cell_type": "markdown",
   "metadata": {},
   "source": [
    "### Function to derive timerange from timestamp"
   ]
  },
  {
   "cell_type": "code",
   "execution_count": null,
   "metadata": {},
   "outputs": [],
   "source": [
    "def travelTimetoRange(dateTime: String): String = {\n",
    "  val sdfTime = new SimpleDateFormat(\"yyyy-MM-dd hh:mm:ss\");\n",
    "  val sdfHour = new SimpleDateFormat(\"H\");\n",
    "  sdfHour.format(sdfTime.parse(dateTime)).toInt / 4 match {\n",
    "      case 0 => return \"0h-4h\"\n",
    "      case 1 => return \"4h-8h\"\n",
    "      case 2 => return \"8h-12h\"\n",
    "      case 3 => return \"12h-16h\"\n",
    "      case 4 => return \"16h-20h\"\n",
    "      case 5 => return \"20h-24h\"\n",
    "  }   \n",
    "}"
   ]
  },
  {
   "cell_type": "markdown",
   "metadata": {},
   "source": [
    "## Register processing function to spark session to use on input data frame"
   ]
  },
  {
   "cell_type": "code",
   "execution_count": null,
   "metadata": {},
   "outputs": [],
   "source": [
    "val travelDistance = spark.udf.register(\"travelDistance\",travelDistanceInKM _);\n",
    "val travelDay = spark.udf.register(\"travelDay\",travelTimetoDay _);\n",
    "val travelTimeRange = spark.udf.register(\"travelTimeRange\",travelTimetoRange _);"
   ]
  },
  {
   "cell_type": "markdown",
   "metadata": {},
   "source": [
    "## Process input data frame to add new columns"
   ]
  },
  {
   "cell_type": "code",
   "execution_count": null,
   "metadata": {},
   "outputs": [],
   "source": [
    "val processedDataDF = rawDataDF\n",
    ".withColumn(\"duration in hours\",col(\"trip_duration\") / (60 * 60))\n",
    ".withColumn(\"distance in km\",travelDistance(col(\"pickup_latitude\"),col(\"pickup_longitude\"),col(\"dropoff_latitude\"),col(\"dropoff_longitude\")))\n",
    ".withColumn(\"speed in km/h\", col(\"distance in km\") / col(\"duration in hours\"))\n",
    ".withColumn(\"day\",travelDay(col(\"pickup_datetime\")))\n",
    ".withColumn(\"timerange\",travelTimeRange(col(\"pickup_datetime\")))"
   ]
  },
  {
   "cell_type": "markdown",
   "metadata": {},
   "source": [
    "## Results"
   ]
  },
  {
   "cell_type": "markdown",
   "metadata": {},
   "source": [
    "### Travel speeds"
   ]
  },
  {
   "cell_type": "code",
   "execution_count": null,
   "metadata": {},
   "outputs": [],
   "source": [
    "val speedDataDF = processedDataDF.select(\"id\",\"speed in km/h\")"
   ]
  },
  {
   "cell_type": "code",
   "execution_count": null,
   "metadata": {},
   "outputs": [],
   "source": [
    "speedDataDF.show(10)"
   ]
  },
  {
   "cell_type": "markdown",
   "metadata": {},
   "source": [
    "## Number of travels on each day of the week"
   ]
  },
  {
   "cell_type": "code",
   "execution_count": null,
   "metadata": {},
   "outputs": [],
   "source": [
    "val travelsPerDayDF = processedDataDF.groupBy(\"day\").count()"
   ]
  },
  {
   "cell_type": "code",
   "execution_count": null,
   "metadata": {},
   "outputs": [],
   "source": [
    "travelsPerDayDF.show(10)"
   ]
  },
  {
   "cell_type": "markdown",
   "metadata": {},
   "source": [
    "## Number of travels on each time range"
   ]
  },
  {
   "cell_type": "code",
   "execution_count": null,
   "metadata": {},
   "outputs": [],
   "source": [
    "val travelsPerHours = processedDataDF.groupBy(\"timerange\").count()"
   ]
  },
  {
   "cell_type": "code",
   "execution_count": null,
   "metadata": {},
   "outputs": [],
   "source": [
    "travelsPerHours.show(10)"
   ]
  },
  {
   "cell_type": "markdown",
   "metadata": {},
   "source": [
    "## Total distance on each day of the week"
   ]
  },
  {
   "cell_type": "code",
   "execution_count": null,
   "metadata": {},
   "outputs": [],
   "source": [
    "val distancePerDayDF = processedDataDF.groupBy(\"day\").sum(\"distance in km\")"
   ]
  },
  {
   "cell_type": "code",
   "execution_count": null,
   "metadata": {},
   "outputs": [],
   "source": [
    "distancePerDayDF.show(10)"
   ]
  }
 ],
 "metadata": {
  "kernelspec": {
   "display_name": "spylon-kernel",
   "language": "scala",
   "name": "spylon-kernel"
  },
  "language_info": {
   "codemirror_mode": "text/x-scala",
   "file_extension": ".scala",
   "help_links": [
    {
     "text": "MetaKernel Magics",
     "url": "https://metakernel.readthedocs.io/en/latest/source/README.html"
    }
   ],
   "mimetype": "text/x-scala",
   "name": "scala",
   "pygments_lexer": "scala",
   "version": "0.4.1"
  }
 },
 "nbformat": 4,
 "nbformat_minor": 2
}
